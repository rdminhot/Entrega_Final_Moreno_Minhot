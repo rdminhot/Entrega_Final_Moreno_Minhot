{
 "cells": [
  {
   "cell_type": "markdown",
   "id": "e5e6468e-b1dd-472d-b040-64a884b86ee6",
   "metadata": {
    "tags": []
   },
   "source": [
    "# Entregable Final\n",
    "\n",
    "\n",
    "# Equipo Integrado por Sergio Antonio Moreno Banda y Ricardo David Minhot\n",
    "\n",
    "\n",
    "## Tutora Maris Botero\n",
    "\n",
    "\n",
    "# Datasets \"Cancer de Pulmon\" \n",
    "\n",
    "\n",
    "### Datos: (int), (str)\n",
    "\n",
    "## Existen factores predisponentes en la enfermedad de cáncer de pulmón?\n",
    "## Abstract:\n",
    "### Se realizará un estudio desde la perspectiva de la existencia o no de factores predisponentes en el cáncer de pulmón. El cancer de pulmón, según el National Cancer institute, a diferencia de otros tipos de cáncer que aparecen más relacionados a variables como el sexo o la edad, es una enfermedad que afecta en igual medida a hombres y mujeres, siendo una de las enfermedades de cáncer más frecuentes en el mundo. Este trabajo está motivado por lograr desenmascarar aquellos factores predisponentes, si existieran, con el fin de prevenir, a la población humana, a una exposición prolongada en el tiempo a dichos factores.\n",
    "### Sobre la base de un Dataset tomado del sitio Kaggle realizaremos un estudio a fin de evaluar la enfermedad de cancer de pulmón y desarrollar un modelo de Machine Learning capaz de predecir si una persona puede contraer o no la enfermedad.\n",
    "### Se evaluará la relación entre las diferentes variables del modelo y la variable a analizar( cáncer de pulmón)\n",
    "### En este trabajo definiremos una Ho (Hipótesis nula) de que no existen factores predisponentes a la aparición de cáncer de pulmón y una Hipótesis H1(Hipótesis alterntiva) de que si existen factores predisponentes a la aparición de cáncer de pulmón. \n",
    "### Serán elaborados gráficos con la utilización de librerías como Seaborn, Matplotlib, Scikit-learn, a fin de tener una visualización de la relación entre variables, cuantificación de casos, etc, a la vez que se intentarán definir insight que nos aporten valor a la investigación.\n",
    "### Hipótesis nula (Ho) de que no existen factores predisponentes al origen del cáncer de pulmón en humanos, es decir que la ocurrencia de cáncer de pulmón es independiente de las demás variables a analizar sobre una muestra tomada al azar en una población y en un rango etario determinado. \n",
    "### Hipótesis alternativa (H1) de que la aparición de cáncer de pulmón tiene factores predisponentes.\n",
    "\n",
    "## OBJETIVO:\n",
    "### En base al análisis de hipótesis poder defininir la profilaxis a seguir a fin de evitar un desarrollo temprano de la enfermedad, minimizando el  riesgo, es decir elaborando un plan de aviso para evitar que los factores predisponentes  tengan una presencia significativa en la vida diaria de las personas en caso de que estos existan. Estimamos  que esto sería de importancia relevante para que las personas estén distanciadas de la enfermedad, que no solo ocaciona muertes de importancia en la población sino que también genera una calidad de vida deprimida para quienes la padecen.\n",
    "## EDA:\n",
    "### Se realizará un análisis exploratorio de datos preliminar con la utilización de diferentes librerías para visualización, comparando o relacionando las diferentes variables entre si.\n",
    "\n",
    "\n",
    "##  Columnas Datasets de Cancer\n",
    "\n",
    "\n",
    "GÉNERO: El género de los sujetos, M= masculino, F= femenino \n",
    "EDAD: La edad de los sujetos \n",
    "FUMAR: 2 si fuman y 1 si no lo hacen. \n",
    "YELLOW_FINGERS: 2 si tienen los dedos amarillos y 1 si no los tienen. \n",
    "ANSIEDAD: 2 si tienen están sufriendo de ansiedad y 1 si no lo están. \n",
    "PEER_PRESSURE: 2 si están influenciados por la presión de grupo y 1 si no lo están. \n",
    "ENFERMEDAD CRÓNICA: 2 si tienen una enfermedad crónica y 1 si no lo tienen. \n",
    "FATIGA: 2 si se fatigan fácilmente y 1 si no lo están \n",
    "ALERGIA: 2 si tienen alergia y 1 si no la tienen. \n",
    "SIBILANCIAS: 2 si jadean y 1 si no lo hacen. \n",
    "CONSUMO DE ALCOHOL: 2 si consumen alcohol y 1 si no lo hacen. \n",
    "TOS: 2 si tosen regularmente y1 si no lo hacen. \n",
    "DIFICULTAD PARA RESPIRAR: 2 si experimentan dificultad para respirar y 1 si no lo hacen. \n",
    "DIFICULTAD PARA TRAGAR: 2 si tienen problemas para tragar y 1 si no lo tienen. \n",
    "DOLOR EN EL PECHO: 2 si tienen dolor en el pecho y 1 si no lo tienen. \n",
    "LUNG_CANCER: Yes= si enfermos de cáncer de pulmón y No= si no lo son. \n",
    "Esta es la columna que estamos tratando de predecir.\n",
    "\n"
   ]
  },
  {
   "cell_type": "code",
   "execution_count": 11,
   "id": "911bd5d6-a03c-4a74-a9d3-883c9069f64f",
   "metadata": {},
   "outputs": [],
   "source": [
    "import pandas as pd\n",
    "import numpy as np\n",
    "import matplotlib as mpl\n",
    "import matplotlib.pyplot as plt\n",
    "import seaborn as sns"
   ]
  },
  {
   "cell_type": "code",
   "execution_count": 12,
   "id": "01159462-1dc7-4143-a1c0-7e63cd3c32fd",
   "metadata": {},
   "outputs": [],
   "source": [
    "#ruta= \"C:/Users/Sergio-PC/Desktop/Data science/Datasets\""
   ]
  },
  {
   "cell_type": "code",
   "execution_count": 13,
   "id": "404c70b2-9e83-4b94-8852-ccbce9f0c13a",
   "metadata": {},
   "outputs": [],
   "source": [
    "Cancer=pd.read_csv(\"C:/Users/David/Documents/Davo/cursos/data/Scientist/Cancer23.csv\")"
   ]
  },
  {
   "cell_type": "code",
   "execution_count": 14,
   "id": "659ff00a-3958-443a-b784-ec7316a75715",
   "metadata": {},
   "outputs": [
    {
     "name": "stdout",
     "output_type": "stream",
     "text": [
      "Forma del Conjunto de Datos : (1848, 16)\n",
      "\n",
      "\n",
      "Vista del Conjunto de Datos :\n",
      "\n"
     ]
    },
    {
     "data": {
      "text/html": [
       "<div>\n",
       "<style scoped>\n",
       "    .dataframe tbody tr th:only-of-type {\n",
       "        vertical-align: middle;\n",
       "    }\n",
       "\n",
       "    .dataframe tbody tr th {\n",
       "        vertical-align: top;\n",
       "    }\n",
       "\n",
       "    .dataframe thead th {\n",
       "        text-align: right;\n",
       "    }\n",
       "</style>\n",
       "<table border=\"1\" class=\"dataframe\">\n",
       "  <thead>\n",
       "    <tr style=\"text-align: right;\">\n",
       "      <th></th>\n",
       "      <th>SEX</th>\n",
       "      <th>AGE</th>\n",
       "      <th>SMOKING</th>\n",
       "      <th>YELLOW_FINGERS</th>\n",
       "      <th>ANXIETY</th>\n",
       "      <th>PEER_PRESSURE</th>\n",
       "      <th>CHRONIC DISEASE</th>\n",
       "      <th>FATIGUE</th>\n",
       "      <th>ALLERGY</th>\n",
       "      <th>WHEEZING</th>\n",
       "      <th>ALCOHOL CONSUMING</th>\n",
       "      <th>COUGHING</th>\n",
       "      <th>SHORTNESS OF BREATH</th>\n",
       "      <th>SWALLOWING DIFFICULTY</th>\n",
       "      <th>CHEST PAIN</th>\n",
       "      <th>LUNG_CANCER</th>\n",
       "    </tr>\n",
       "  </thead>\n",
       "  <tbody>\n",
       "    <tr>\n",
       "      <th>0</th>\n",
       "      <td>M</td>\n",
       "      <td>69</td>\n",
       "      <td>1</td>\n",
       "      <td>2</td>\n",
       "      <td>2</td>\n",
       "      <td>1</td>\n",
       "      <td>1</td>\n",
       "      <td>2</td>\n",
       "      <td>1</td>\n",
       "      <td>2</td>\n",
       "      <td>2</td>\n",
       "      <td>2</td>\n",
       "      <td>2</td>\n",
       "      <td>2</td>\n",
       "      <td>2</td>\n",
       "      <td>YES</td>\n",
       "    </tr>\n",
       "    <tr>\n",
       "      <th>1</th>\n",
       "      <td>M</td>\n",
       "      <td>74</td>\n",
       "      <td>2</td>\n",
       "      <td>1</td>\n",
       "      <td>1</td>\n",
       "      <td>1</td>\n",
       "      <td>2</td>\n",
       "      <td>2</td>\n",
       "      <td>2</td>\n",
       "      <td>1</td>\n",
       "      <td>1</td>\n",
       "      <td>1</td>\n",
       "      <td>2</td>\n",
       "      <td>2</td>\n",
       "      <td>2</td>\n",
       "      <td>YES</td>\n",
       "    </tr>\n",
       "    <tr>\n",
       "      <th>2</th>\n",
       "      <td>F</td>\n",
       "      <td>59</td>\n",
       "      <td>1</td>\n",
       "      <td>1</td>\n",
       "      <td>1</td>\n",
       "      <td>2</td>\n",
       "      <td>1</td>\n",
       "      <td>2</td>\n",
       "      <td>1</td>\n",
       "      <td>2</td>\n",
       "      <td>1</td>\n",
       "      <td>2</td>\n",
       "      <td>2</td>\n",
       "      <td>1</td>\n",
       "      <td>2</td>\n",
       "      <td>NO</td>\n",
       "    </tr>\n",
       "    <tr>\n",
       "      <th>3</th>\n",
       "      <td>M</td>\n",
       "      <td>63</td>\n",
       "      <td>2</td>\n",
       "      <td>2</td>\n",
       "      <td>2</td>\n",
       "      <td>1</td>\n",
       "      <td>1</td>\n",
       "      <td>1</td>\n",
       "      <td>1</td>\n",
       "      <td>1</td>\n",
       "      <td>2</td>\n",
       "      <td>1</td>\n",
       "      <td>1</td>\n",
       "      <td>2</td>\n",
       "      <td>2</td>\n",
       "      <td>NO</td>\n",
       "    </tr>\n",
       "    <tr>\n",
       "      <th>4</th>\n",
       "      <td>F</td>\n",
       "      <td>63</td>\n",
       "      <td>1</td>\n",
       "      <td>2</td>\n",
       "      <td>1</td>\n",
       "      <td>1</td>\n",
       "      <td>1</td>\n",
       "      <td>1</td>\n",
       "      <td>1</td>\n",
       "      <td>2</td>\n",
       "      <td>1</td>\n",
       "      <td>2</td>\n",
       "      <td>2</td>\n",
       "      <td>1</td>\n",
       "      <td>1</td>\n",
       "      <td>NO</td>\n",
       "    </tr>\n",
       "  </tbody>\n",
       "</table>\n",
       "</div>"
      ],
      "text/plain": [
       "  SEX  AGE  SMOKING  YELLOW_FINGERS  ANXIETY  PEER_PRESSURE  CHRONIC DISEASE  \\\n",
       "0   M   69        1               2        2              1                1   \n",
       "1   M   74        2               1        1              1                2   \n",
       "2   F   59        1               1        1              2                1   \n",
       "3   M   63        2               2        2              1                1   \n",
       "4   F   63        1               2        1              1                1   \n",
       "\n",
       "   FATIGUE   ALLERGY   WHEEZING  ALCOHOL CONSUMING  COUGHING  \\\n",
       "0         2         1         2                  2         2   \n",
       "1         2         2         1                  1         1   \n",
       "2         2         1         2                  1         2   \n",
       "3         1         1         1                  2         1   \n",
       "4         1         1         2                  1         2   \n",
       "\n",
       "   SHORTNESS OF BREATH  SWALLOWING DIFFICULTY  CHEST PAIN LUNG_CANCER  \n",
       "0                    2                      2           2         YES  \n",
       "1                    2                      2           2         YES  \n",
       "2                    2                      1           2          NO  \n",
       "3                    1                      2           2          NO  \n",
       "4                    2                      1           1          NO  "
      ]
     },
     "execution_count": 14,
     "metadata": {},
     "output_type": "execute_result"
    }
   ],
   "source": [
    "print(f\"Forma del Conjunto de Datos : {Cancer.shape}\")\n",
    "print(f\"\\n\\nVista del Conjunto de Datos :\\n\")\n",
    "Cancer.head(5)"
   ]
  },
  {
   "cell_type": "markdown",
   "id": "c56c9e17-94a7-43d4-8026-fe921162d8e7",
   "metadata": {},
   "source": [
    "## Búsqueda de datos nulos (missing values)"
   ]
  },
  {
   "cell_type": "code",
   "execution_count": 15,
   "id": "74235e87-87f5-4240-bac8-8b2932ebdd73",
   "metadata": {},
   "outputs": [
    {
     "data": {
      "text/plain": [
       "False"
      ]
     },
     "execution_count": 15,
     "metadata": {},
     "output_type": "execute_result"
    }
   ],
   "source": [
    "Cancer.isnull().values.any()"
   ]
  },
  {
   "cell_type": "markdown",
   "id": "df25142d-fde8-44ee-98fc-74df4297b288",
   "metadata": {},
   "source": [
    "##  Comprobaremos entradas duplicadas. Y eliminaremos los datos duplicados\n"
   ]
  },
  {
   "cell_type": "code",
   "execution_count": 16,
   "id": "d0073aa5-6950-4a43-9806-9e8c0ce85f35",
   "metadata": {},
   "outputs": [
    {
     "name": "stdout",
     "output_type": "stream",
     "text": [
      "Hay 409 entradas duplicadas entre 1848  entradas en este conjunto de datos.\n",
      "\n",
      "Después de eliminar las entradas duplicadas hay 1439 entradas en este conjunto de datos.\n"
     ]
    }
   ],
   "source": [
    "dup = Cancer[Cancer.duplicated()].shape[0]\n",
    "print(f\"Hay {dup} entradas duplicadas entre {Cancer.shape[0]}  entradas en este conjunto de datos.\")\n",
    "\n",
    "Cancer.drop_duplicates(keep='first',inplace=True)\n",
    "print(f\"\\nDespués de eliminar las entradas duplicadas hay {Cancer.shape[0]} entradas en este conjunto de datos.\")"
   ]
  },
  {
   "cell_type": "markdown",
   "id": "8030a960-1953-4c07-ba2e-968642938b09",
   "metadata": {},
   "source": [
    "# Ingeniería de atributos:\n",
    "## Vamos a otorgar valores de clase 0 (cáncer +) y 1 (cáncer -) a la feature LUNG_CANCER . \n",
    "## Otorgaremos clase 0 a masculino y 1 a femenino en la feature \"SEX\"."
   ]
  },
  {
   "cell_type": "code",
   "execution_count": 17,
   "id": "06e80b9e-d22d-47ef-8533-1fbb8d05fde8",
   "metadata": {},
   "outputs": [
    {
     "data": {
      "text/html": [
       "<div>\n",
       "<style scoped>\n",
       "    .dataframe tbody tr th:only-of-type {\n",
       "        vertical-align: middle;\n",
       "    }\n",
       "\n",
       "    .dataframe tbody tr th {\n",
       "        vertical-align: top;\n",
       "    }\n",
       "\n",
       "    .dataframe thead th {\n",
       "        text-align: right;\n",
       "    }\n",
       "</style>\n",
       "<table border=\"1\" class=\"dataframe\">\n",
       "  <thead>\n",
       "    <tr style=\"text-align: right;\">\n",
       "      <th></th>\n",
       "      <th>SEX</th>\n",
       "      <th>AGE</th>\n",
       "      <th>SMOKING</th>\n",
       "      <th>YELLOW_FINGERS</th>\n",
       "      <th>ANXIETY</th>\n",
       "      <th>CHRONIC DISEASE</th>\n",
       "      <th>FATIGUE</th>\n",
       "      <th>ALLERGY</th>\n",
       "      <th>WHEEZING</th>\n",
       "      <th>ALCOHOL CONSUMING</th>\n",
       "      <th>COUGHING</th>\n",
       "      <th>SHORTNESS OF BREATH</th>\n",
       "      <th>SWALLOWING DIFFICULTY</th>\n",
       "      <th>CHEST PAIN</th>\n",
       "      <th>LUNG_CANCER</th>\n",
       "    </tr>\n",
       "  </thead>\n",
       "  <tbody>\n",
       "    <tr>\n",
       "      <th>0</th>\n",
       "      <td>0</td>\n",
       "      <td>69</td>\n",
       "      <td>1</td>\n",
       "      <td>2</td>\n",
       "      <td>2</td>\n",
       "      <td>1</td>\n",
       "      <td>2</td>\n",
       "      <td>1</td>\n",
       "      <td>2</td>\n",
       "      <td>2</td>\n",
       "      <td>2</td>\n",
       "      <td>2</td>\n",
       "      <td>2</td>\n",
       "      <td>2</td>\n",
       "      <td>0</td>\n",
       "    </tr>\n",
       "    <tr>\n",
       "      <th>1</th>\n",
       "      <td>0</td>\n",
       "      <td>74</td>\n",
       "      <td>2</td>\n",
       "      <td>1</td>\n",
       "      <td>1</td>\n",
       "      <td>2</td>\n",
       "      <td>2</td>\n",
       "      <td>2</td>\n",
       "      <td>1</td>\n",
       "      <td>1</td>\n",
       "      <td>1</td>\n",
       "      <td>2</td>\n",
       "      <td>2</td>\n",
       "      <td>2</td>\n",
       "      <td>0</td>\n",
       "    </tr>\n",
       "    <tr>\n",
       "      <th>2</th>\n",
       "      <td>1</td>\n",
       "      <td>59</td>\n",
       "      <td>1</td>\n",
       "      <td>1</td>\n",
       "      <td>1</td>\n",
       "      <td>1</td>\n",
       "      <td>2</td>\n",
       "      <td>1</td>\n",
       "      <td>2</td>\n",
       "      <td>1</td>\n",
       "      <td>2</td>\n",
       "      <td>2</td>\n",
       "      <td>1</td>\n",
       "      <td>2</td>\n",
       "      <td>1</td>\n",
       "    </tr>\n",
       "    <tr>\n",
       "      <th>3</th>\n",
       "      <td>0</td>\n",
       "      <td>63</td>\n",
       "      <td>2</td>\n",
       "      <td>2</td>\n",
       "      <td>2</td>\n",
       "      <td>1</td>\n",
       "      <td>1</td>\n",
       "      <td>1</td>\n",
       "      <td>1</td>\n",
       "      <td>2</td>\n",
       "      <td>1</td>\n",
       "      <td>1</td>\n",
       "      <td>2</td>\n",
       "      <td>2</td>\n",
       "      <td>1</td>\n",
       "    </tr>\n",
       "    <tr>\n",
       "      <th>4</th>\n",
       "      <td>1</td>\n",
       "      <td>63</td>\n",
       "      <td>1</td>\n",
       "      <td>2</td>\n",
       "      <td>1</td>\n",
       "      <td>1</td>\n",
       "      <td>1</td>\n",
       "      <td>1</td>\n",
       "      <td>2</td>\n",
       "      <td>1</td>\n",
       "      <td>2</td>\n",
       "      <td>2</td>\n",
       "      <td>1</td>\n",
       "      <td>1</td>\n",
       "      <td>1</td>\n",
       "    </tr>\n",
       "  </tbody>\n",
       "</table>\n",
       "</div>"
      ],
      "text/plain": [
       "   SEX  AGE  SMOKING  YELLOW_FINGERS  ANXIETY  CHRONIC DISEASE  FATIGUE   \\\n",
       "0    0   69        1               2        2                1         2   \n",
       "1    0   74        2               1        1                2         2   \n",
       "2    1   59        1               1        1                1         2   \n",
       "3    0   63        2               2        2                1         1   \n",
       "4    1   63        1               2        1                1         1   \n",
       "\n",
       "   ALLERGY   WHEEZING  ALCOHOL CONSUMING  COUGHING  SHORTNESS OF BREATH  \\\n",
       "0         1         2                  2         2                    2   \n",
       "1         2         1                  1         1                    2   \n",
       "2         1         2                  1         2                    2   \n",
       "3         1         1                  2         1                    1   \n",
       "4         1         2                  1         2                    2   \n",
       "\n",
       "   SWALLOWING DIFFICULTY  CHEST PAIN  LUNG_CANCER  \n",
       "0                      2           2            0  \n",
       "1                      2           2            0  \n",
       "2                      1           2            1  \n",
       "3                      2           2            1  \n",
       "4                      1           1            1  "
      ]
     },
     "execution_count": 17,
     "metadata": {},
     "output_type": "execute_result"
    }
   ],
   "source": [
    "# label encoding\n",
    "Cancer.replace({\"LUNG_CANCER\":{'YES':0,'NO':1}},inplace=True)\n",
    "# label encoding\n",
    "Cancer.replace({\"SEX\":{'M':0,'F':1}},inplace=True)\n",
    "# printing the first 5 rows of the dataframe\n",
    "Cancer= Cancer.drop('PEER_PRESSURE', axis=1)\n",
    "Cancer.head(5)\n",
    "\n"
   ]
  },
  {
   "cell_type": "markdown",
   "id": "e7d349c7",
   "metadata": {},
   "source": [
    "### Insight"
   ]
  },
  {
   "cell_type": "code",
   "execution_count": 18,
   "id": "5c9b2788",
   "metadata": {},
   "outputs": [
    {
     "data": {
      "text/plain": [
       "<seaborn.axisgrid.FacetGrid at 0x204c4f64c70>"
      ]
     },
     "execution_count": 18,
     "metadata": {},
     "output_type": "execute_result"
    },
    {
     "data": {
      "image/png": "[encoded data removed]",
      "text/plain": [
       "<Figure size 720x360 with 2 Axes>"
      ]
     },
     "metadata": {
      "needs_background": "light"
     },
     "output_type": "display_data"
    }
   ],
   "source": [
    "sns.displot(Cancer, x=\"AGE\", col=\"LUNG_CANCER\")"
   ]
  },
  {
   "cell_type": "code",
   "execution_count": 19,
   "id": "f3ab3fb1",
   "metadata": {},
   "outputs": [
    {
     "name": "stdout",
     "output_type": "stream",
     "text": [
      "Distribution of cancer in the sample.\n",
      "Positive Cancer=0, Negative Cancer=1)\n"
     ]
    },
    {
     "data": {
      "text/plain": [
       "<AxesSubplot:xlabel='LUNG_CANCER', ylabel='count'>"
      ]
     },
     "execution_count": 19,
     "metadata": {},
     "output_type": "execute_result"
    },
    {
     "data": {
      "image/png": "[encoded data removed]",
      "text/plain": [
       "<Figure size 432x288 with 1 Axes>"
      ]
     },
     "metadata": {
      "needs_background": "light"
     },
     "output_type": "display_data"
    }
   ],
   "source": [
    "print('Distribution of cancer in the sample.')\n",
    "print('Positive Cancer=0, Negative Cancer=1)')\n",
    "sns.countplot(x='LUNG_CANCER',hue='LUNG_CANCER',data=Cancer)"
   ]
  },
  {
   "cell_type": "code",
   "execution_count": 20,
   "id": "1499af35",
   "metadata": {},
   "outputs": [
    {
     "name": "stdout",
     "output_type": "stream",
     "text": [
      "Distribution of cancer according to gender.\n",
      "GENDER M=0, F=1\n"
     ]
    },
    {
     "data": {
      "image/png": "[encoded data removed]",
      "text/plain": [
       "<Figure size 432x288 with 1 Axes>"
      ]
     },
     "metadata": {
      "needs_background": "light"
     },
     "output_type": "display_data"
    }
   ],
   "source": [
    "sns.countplot(x='SEX',hue='LUNG_CANCER',data=Cancer)\n",
    "print(\"Distribution of cancer according to gender.\")\n",
    "print('GENDER M=0, F=1')"
   ]
  },
  {
   "cell_type": "code",
   "execution_count": 21,
   "id": "12b2e969",
   "metadata": {},
   "outputs": [
    {
     "name": "stdout",
     "output_type": "stream",
     "text": [
      "Distribution of cancer between smokers and non-smoker.\n",
      "Smoking Yes=2, No=1\n",
      "Lung Cancer Yes=0, No = 1\n"
     ]
    },
    {
     "data": {
      "image/png": "[encoded data removed]",
      "text/plain": [
       "<Figure size 432x288 with 1 Axes>"
      ]
     },
     "metadata": {
      "needs_background": "light"
     },
     "output_type": "display_data"
    }
   ],
   "source": [
    "sns.countplot(x='LUNG_CANCER',hue='SMOKING',data=Cancer)\n",
    "print(\"Distribution of cancer between smokers and non-smoker.\")\n",
    "print('Smoking Yes=2, No=1')\n",
    "print(\"Lung Cancer Yes=0, No = 1\")"
   ]
  },
  {
   "cell_type": "code",
   "execution_count": 22,
   "id": "0674d770",
   "metadata": {},
   "outputs": [
    {
     "data": {
      "image/png": "[encoded data removed]",
      "text/plain": [
       "<Figure size 864x864 with 2 Axes>"
      ]
     },
     "metadata": {
      "needs_background": "light"
     },
     "output_type": "display_data"
    }
   ],
   "source": [
    "palette = [\"#1d7874\",\"#679289\",\"#f4c095\",\"#ee2e31\",\"#ffb563\",\"#918450\",\"#f85e00\",\"#a41623\",\"#9a031e\",\"#d6d6d6\",\"#ffee32\",\"#ffd100\",\"#333533\",\"#202020\"]\n",
    "plt.subplots(figsize=(12, 12))\n",
    "p=sns.heatmap(Cancer.corr(), cmap = palette, square=True, cbar_kws=dict(shrink =.99), \n",
    "            annot=True, vmin=-1, vmax=1, linewidths=0.3,linecolor='white',annot_kws=dict(fontsize =12))\n",
    "p.axes.set_title(\"Pearson Correlation Of Features\\n\", fontsize=25)\n",
    "plt.xticks(rotation=90)\n",
    "plt.show()"
   ]
  },
  {
   "cell_type": "markdown",
   "id": "23b269f6",
   "metadata": {},
   "source": [
    "### En una primera aproximación a estas visualizaciones notamos una aparente independencia de la enfermedad en relación al sexoen cuanto a que existiera algún factor predisponente a la enfermedad. Se graficaron los datos a nivel univariado, bivariado y multivariado.\n",
    "### También podemos visualizar la existencia de tres variables con mayor poder predictor que las demás como son 'Swallowing dificculty', 'Yellow fingers' y 'Anxiety'.\n",
    "\n",
    "## El desafío siguiente esdefinir un modelo de Machine Learning de clasificación dado el tipo de datos categóricos y con etiqueta definida (LUNG_CANCER)."
   ]
  },
  {
   "cell_type": "markdown",
   "id": "fb5a89e0-2acc-4ff6-8213-1220f62c0c8b",
   "metadata": {},
   "source": [
    "## Determinación de variable target(y) y predictoras (X).\n",
    "\n"
   ]
  },
  {
   "cell_type": "code",
   "execution_count": 23,
   "id": "66684e40",
   "metadata": {},
   "outputs": [
    {
     "name": "stderr",
     "output_type": "stream",
     "text": [
      "C:\\Users\\David\\AppData\\Local\\Temp\\ipykernel_1712\\4154797266.py:2: FutureWarning: In a future version of pandas all arguments of DataFrame.drop except for the argument 'labels' will be keyword-only.\n",
      "  X= Cancer.drop('LUNG_CANCER',1)\n"
     ]
    },
    {
     "data": {
      "text/html": [
       "<div>\n",
       "<style scoped>\n",
       "    .dataframe tbody tr th:only-of-type {\n",
       "        vertical-align: middle;\n",
       "    }\n",
       "\n",
       "    .dataframe tbody tr th {\n",
       "        vertical-align: top;\n",
       "    }\n",
       "\n",
       "    .dataframe thead th {\n",
       "        text-align: right;\n",
       "    }\n",
       "</style>\n",
       "<table border=\"1\" class=\"dataframe\">\n",
       "  <thead>\n",
       "    <tr style=\"text-align: right;\">\n",
       "      <th></th>\n",
       "      <th>SEX</th>\n",
       "      <th>AGE</th>\n",
       "      <th>SMOKING</th>\n",
       "      <th>YELLOW_FINGERS</th>\n",
       "      <th>ANXIETY</th>\n",
       "      <th>CHRONIC DISEASE</th>\n",
       "      <th>FATIGUE</th>\n",
       "      <th>ALLERGY</th>\n",
       "      <th>WHEEZING</th>\n",
       "      <th>ALCOHOL CONSUMING</th>\n",
       "      <th>COUGHING</th>\n",
       "      <th>SHORTNESS OF BREATH</th>\n",
       "      <th>SWALLOWING DIFFICULTY</th>\n",
       "      <th>CHEST PAIN</th>\n",
       "      <th>LUNG_CANCER</th>\n",
       "    </tr>\n",
       "  </thead>\n",
       "  <tbody>\n",
       "    <tr>\n",
       "      <th>0</th>\n",
       "      <td>0</td>\n",
       "      <td>69</td>\n",
       "      <td>1</td>\n",
       "      <td>2</td>\n",
       "      <td>2</td>\n",
       "      <td>1</td>\n",
       "      <td>2</td>\n",
       "      <td>1</td>\n",
       "      <td>2</td>\n",
       "      <td>2</td>\n",
       "      <td>2</td>\n",
       "      <td>2</td>\n",
       "      <td>2</td>\n",
       "      <td>2</td>\n",
       "      <td>0</td>\n",
       "    </tr>\n",
       "    <tr>\n",
       "      <th>1</th>\n",
       "      <td>0</td>\n",
       "      <td>74</td>\n",
       "      <td>2</td>\n",
       "      <td>1</td>\n",
       "      <td>1</td>\n",
       "      <td>2</td>\n",
       "      <td>2</td>\n",
       "      <td>2</td>\n",
       "      <td>1</td>\n",
       "      <td>1</td>\n",
       "      <td>1</td>\n",
       "      <td>2</td>\n",
       "      <td>2</td>\n",
       "      <td>2</td>\n",
       "      <td>0</td>\n",
       "    </tr>\n",
       "    <tr>\n",
       "      <th>2</th>\n",
       "      <td>1</td>\n",
       "      <td>59</td>\n",
       "      <td>1</td>\n",
       "      <td>1</td>\n",
       "      <td>1</td>\n",
       "      <td>1</td>\n",
       "      <td>2</td>\n",
       "      <td>1</td>\n",
       "      <td>2</td>\n",
       "      <td>1</td>\n",
       "      <td>2</td>\n",
       "      <td>2</td>\n",
       "      <td>1</td>\n",
       "      <td>2</td>\n",
       "      <td>1</td>\n",
       "    </tr>\n",
       "    <tr>\n",
       "      <th>3</th>\n",
       "      <td>0</td>\n",
       "      <td>63</td>\n",
       "      <td>2</td>\n",
       "      <td>2</td>\n",
       "      <td>2</td>\n",
       "      <td>1</td>\n",
       "      <td>1</td>\n",
       "      <td>1</td>\n",
       "      <td>1</td>\n",
       "      <td>2</td>\n",
       "      <td>1</td>\n",
       "      <td>1</td>\n",
       "      <td>2</td>\n",
       "      <td>2</td>\n",
       "      <td>1</td>\n",
       "    </tr>\n",
       "    <tr>\n",
       "      <th>4</th>\n",
       "      <td>1</td>\n",
       "      <td>63</td>\n",
       "      <td>1</td>\n",
       "      <td>2</td>\n",
       "      <td>1</td>\n",
       "      <td>1</td>\n",
       "      <td>1</td>\n",
       "      <td>1</td>\n",
       "      <td>2</td>\n",
       "      <td>1</td>\n",
       "      <td>2</td>\n",
       "      <td>2</td>\n",
       "      <td>1</td>\n",
       "      <td>1</td>\n",
       "      <td>1</td>\n",
       "    </tr>\n",
       "  </tbody>\n",
       "</table>\n",
       "</div>"
      ],
      "text/plain": [
       "   SEX  AGE  SMOKING  YELLOW_FINGERS  ANXIETY  CHRONIC DISEASE  FATIGUE   \\\n",
       "0    0   69        1               2        2                1         2   \n",
       "1    0   74        2               1        1                2         2   \n",
       "2    1   59        1               1        1                1         2   \n",
       "3    0   63        2               2        2                1         1   \n",
       "4    1   63        1               2        1                1         1   \n",
       "\n",
       "   ALLERGY   WHEEZING  ALCOHOL CONSUMING  COUGHING  SHORTNESS OF BREATH  \\\n",
       "0         1         2                  2         2                    2   \n",
       "1         2         1                  1         1                    2   \n",
       "2         1         2                  1         2                    2   \n",
       "3         1         1                  2         1                    1   \n",
       "4         1         2                  1         2                    2   \n",
       "\n",
       "   SWALLOWING DIFFICULTY  CHEST PAIN  LUNG_CANCER  \n",
       "0                      2           2            0  \n",
       "1                      2           2            0  \n",
       "2                      1           2            1  \n",
       "3                      2           2            1  \n",
       "4                      1           1            1  "
      ]
     },
     "execution_count": 23,
     "metadata": {},
     "output_type": "execute_result"
    }
   ],
   "source": [
    "#Cancer['LUNG CANCER'] = Cancer.target Este codigo si no está no afecta lo que sigue. Porqué?\n",
    "X= Cancer.drop('LUNG_CANCER',1)\n",
    "y= Cancer['LUNG_CANCER']\n",
    "Cancer.head()"
   ]
  },
  {
   "cell_type": "code",
   "execution_count": 24,
   "id": "99235a51",
   "metadata": {},
   "outputs": [],
   "source": [
    "import statsmodels.api as sm\n",
    "def forward_selection(Cancer, target, significance_level=0.05): \n",
    "    initial_features = Cancer.columns.tolist()\n",
    "    best_features = []\n",
    "    while (len(initial_features)>0):\n",
    "        remaining_features = list(set(initial_features)-set(best_features))\n",
    "        new_pval = pd.Series(index=remaining_features)\n",
    "        for new_column in remaining_features:\n",
    "            model = sm.OLS(target, sm.add_constant(Cancer[best_features+[new_column]])).fit()\n",
    "            new_pval[new_column] = model.pvalues[new_column]\n",
    "        min_p_value = new_pval.min()\n",
    "        if(min_p_value<significance_level):\n",
    "            best_features.append(new_pval.idxmin())\n",
    "        else:\n",
    "            break\n",
    "    return best_features"
   ]
  },
  {
   "cell_type": "code",
   "execution_count": 25,
   "id": "9abaf9cc",
   "metadata": {},
   "outputs": [
    {
     "name": "stderr",
     "output_type": "stream",
     "text": [
      "C:\\Users\\David\\AppData\\Local\\Temp\\ipykernel_1712\\2873425038.py:7: FutureWarning: The default dtype for empty Series will be 'object' instead of 'float64' in a future version. Specify a dtype explicitly to silence this warning.\n",
      "  new_pval = pd.Series(index=remaining_features)\n",
      "C:\\Users\\David\\AppData\\Local\\Temp\\ipykernel_1712\\2873425038.py:7: FutureWarning: The default dtype for empty Series will be 'object' instead of 'float64' in a future version. Specify a dtype explicitly to silence this warning.\n",
      "  new_pval = pd.Series(index=remaining_features)\n",
      "C:\\Users\\David\\AppData\\Local\\Temp\\ipykernel_1712\\2873425038.py:7: FutureWarning: The default dtype for empty Series will be 'object' instead of 'float64' in a future version. Specify a dtype explicitly to silence this warning.\n",
      "  new_pval = pd.Series(index=remaining_features)\n",
      "C:\\Users\\David\\AppData\\Local\\Temp\\ipykernel_1712\\2873425038.py:7: FutureWarning: The default dtype for empty Series will be 'object' instead of 'float64' in a future version. Specify a dtype explicitly to silence this warning.\n",
      "  new_pval = pd.Series(index=remaining_features)\n",
      "C:\\Users\\David\\AppData\\Local\\Temp\\ipykernel_1712\\2873425038.py:7: FutureWarning: The default dtype for empty Series will be 'object' instead of 'float64' in a future version. Specify a dtype explicitly to silence this warning.\n",
      "  new_pval = pd.Series(index=remaining_features)\n",
      "C:\\Users\\David\\AppData\\Local\\Temp\\ipykernel_1712\\2873425038.py:7: FutureWarning: The default dtype for empty Series will be 'object' instead of 'float64' in a future version. Specify a dtype explicitly to silence this warning.\n",
      "  new_pval = pd.Series(index=remaining_features)\n",
      "C:\\Users\\David\\AppData\\Local\\Temp\\ipykernel_1712\\2873425038.py:7: FutureWarning: The default dtype for empty Series will be 'object' instead of 'float64' in a future version. Specify a dtype explicitly to silence this warning.\n",
      "  new_pval = pd.Series(index=remaining_features)\n",
      "C:\\Users\\David\\AppData\\Local\\Temp\\ipykernel_1712\\2873425038.py:7: FutureWarning: The default dtype for empty Series will be 'object' instead of 'float64' in a future version. Specify a dtype explicitly to silence this warning.\n",
      "  new_pval = pd.Series(index=remaining_features)\n",
      "C:\\Users\\David\\AppData\\Local\\Temp\\ipykernel_1712\\2873425038.py:7: FutureWarning: The default dtype for empty Series will be 'object' instead of 'float64' in a future version. Specify a dtype explicitly to silence this warning.\n",
      "  new_pval = pd.Series(index=remaining_features)\n",
      "C:\\Users\\David\\AppData\\Local\\Temp\\ipykernel_1712\\2873425038.py:7: FutureWarning: The default dtype for empty Series will be 'object' instead of 'float64' in a future version. Specify a dtype explicitly to silence this warning.\n",
      "  new_pval = pd.Series(index=remaining_features)\n",
      "C:\\Users\\David\\AppData\\Local\\Temp\\ipykernel_1712\\2873425038.py:7: FutureWarning: The default dtype for empty Series will be 'object' instead of 'float64' in a future version. Specify a dtype explicitly to silence this warning.\n",
      "  new_pval = pd.Series(index=remaining_features)\n"
     ]
    },
    {
     "data": {
      "text/plain": [
       "['ALLERGY ',\n",
       " 'SWALLOWING DIFFICULTY',\n",
       " 'COUGHING',\n",
       " 'FATIGUE ',\n",
       " 'ALCOHOL CONSUMING',\n",
       " 'YELLOW_FINGERS',\n",
       " 'CHRONIC DISEASE',\n",
       " 'SMOKING',\n",
       " 'ANXIETY',\n",
       " 'WHEEZING']"
      ]
     },
     "execution_count": 25,
     "metadata": {},
     "output_type": "execute_result"
    }
   ],
   "source": [
    "forward_selection(X,y) "
   ]
  },
  {
   "cell_type": "code",
   "execution_count": 26,
   "id": "63070794",
   "metadata": {},
   "outputs": [
    {
     "data": {
      "text/html": [
       "<div>\n",
       "<style scoped>\n",
       "    .dataframe tbody tr th:only-of-type {\n",
       "        vertical-align: middle;\n",
       "    }\n",
       "\n",
       "    .dataframe tbody tr th {\n",
       "        vertical-align: top;\n",
       "    }\n",
       "\n",
       "    .dataframe thead th {\n",
       "        text-align: right;\n",
       "    }\n",
       "</style>\n",
       "<table border=\"1\" class=\"dataframe\">\n",
       "  <thead>\n",
       "    <tr style=\"text-align: right;\">\n",
       "      <th></th>\n",
       "      <th>SMOKING</th>\n",
       "      <th>YELLOW_FINGERS</th>\n",
       "      <th>ANXIETY</th>\n",
       "      <th>CHRONIC DISEASE</th>\n",
       "      <th>FATIGUE</th>\n",
       "      <th>ALLERGY</th>\n",
       "      <th>WHEEZING</th>\n",
       "      <th>ALCOHOL CONSUMING</th>\n",
       "      <th>COUGHING</th>\n",
       "      <th>SWALLOWING DIFFICULTY</th>\n",
       "      <th>LUNG_CANCER</th>\n",
       "    </tr>\n",
       "  </thead>\n",
       "  <tbody>\n",
       "    <tr>\n",
       "      <th>0</th>\n",
       "      <td>1</td>\n",
       "      <td>2</td>\n",
       "      <td>2</td>\n",
       "      <td>1</td>\n",
       "      <td>2</td>\n",
       "      <td>1</td>\n",
       "      <td>2</td>\n",
       "      <td>2</td>\n",
       "      <td>2</td>\n",
       "      <td>2</td>\n",
       "      <td>0</td>\n",
       "    </tr>\n",
       "    <tr>\n",
       "      <th>1</th>\n",
       "      <td>2</td>\n",
       "      <td>1</td>\n",
       "      <td>1</td>\n",
       "      <td>2</td>\n",
       "      <td>2</td>\n",
       "      <td>2</td>\n",
       "      <td>1</td>\n",
       "      <td>1</td>\n",
       "      <td>1</td>\n",
       "      <td>2</td>\n",
       "      <td>0</td>\n",
       "    </tr>\n",
       "    <tr>\n",
       "      <th>2</th>\n",
       "      <td>1</td>\n",
       "      <td>1</td>\n",
       "      <td>1</td>\n",
       "      <td>1</td>\n",
       "      <td>2</td>\n",
       "      <td>1</td>\n",
       "      <td>2</td>\n",
       "      <td>1</td>\n",
       "      <td>2</td>\n",
       "      <td>1</td>\n",
       "      <td>1</td>\n",
       "    </tr>\n",
       "    <tr>\n",
       "      <th>3</th>\n",
       "      <td>2</td>\n",
       "      <td>2</td>\n",
       "      <td>2</td>\n",
       "      <td>1</td>\n",
       "      <td>1</td>\n",
       "      <td>1</td>\n",
       "      <td>1</td>\n",
       "      <td>2</td>\n",
       "      <td>1</td>\n",
       "      <td>2</td>\n",
       "      <td>1</td>\n",
       "    </tr>\n",
       "    <tr>\n",
       "      <th>4</th>\n",
       "      <td>1</td>\n",
       "      <td>2</td>\n",
       "      <td>1</td>\n",
       "      <td>1</td>\n",
       "      <td>1</td>\n",
       "      <td>1</td>\n",
       "      <td>2</td>\n",
       "      <td>1</td>\n",
       "      <td>2</td>\n",
       "      <td>1</td>\n",
       "      <td>1</td>\n",
       "    </tr>\n",
       "  </tbody>\n",
       "</table>\n",
       "</div>"
      ],
      "text/plain": [
       "   SMOKING  YELLOW_FINGERS  ANXIETY  CHRONIC DISEASE  FATIGUE   ALLERGY   \\\n",
       "0        1               2        2                1         2         1   \n",
       "1        2               1        1                2         2         2   \n",
       "2        1               1        1                1         2         1   \n",
       "3        2               2        2                1         1         1   \n",
       "4        1               2        1                1         1         1   \n",
       "\n",
       "   WHEEZING  ALCOHOL CONSUMING  COUGHING  SWALLOWING DIFFICULTY  LUNG_CANCER  \n",
       "0         2                  2         2                      2            0  \n",
       "1         1                  1         1                      2            0  \n",
       "2         2                  1         2                      1            1  \n",
       "3         1                  2         1                      2            1  \n",
       "4         2                  1         2                      1            1  "
      ]
     },
     "execution_count": 26,
     "metadata": {},
     "output_type": "execute_result"
    }
   ],
   "source": [
    "Cancer= Cancer.drop(['SEX', 'AGE','SHORTNESS OF BREATH', 'CHEST PAIN'], axis=1)\n",
    "Cancer.head()"
   ]
  },
  {
   "cell_type": "markdown",
   "id": "99a2b64f",
   "metadata": {},
   "source": [
    "## Partición del dataset en grupo Test, Training y Validation."
   ]
  },
  {
   "cell_type": "code",
   "execution_count": 27,
   "id": "d257f079-108c-4b85-8572-a400a59da007",
   "metadata": {},
   "outputs": [
    {
     "name": "stdout",
     "output_type": "stream",
     "text": [
      "information about the dataset\n",
      "Total samples = 1439\n",
      "PARTITIONED CANCER DATASET\n",
      "======================\n",
      "Shape of X_train is  (906, 14)\n",
      "Shape of y_train is  (906,)\n",
      "% samples train: 0 : 85.65%    1 : 14.35%\n",
      "======================\n",
      "X_val: (101, 14)\n",
      "y_val: (101,)\n",
      "% samples per class: 0 : 85.15%    1 : 14.85%\n",
      "======================\n",
      "Shape of X_test  is  (432, 14)\n",
      "Shape of y_test  is  (432,)\n",
      "% samples test: 0 : 85.65%    1 : 14.35%\n"
     ]
    }
   ],
   "source": [
    "from sklearn.model_selection import train_test_split\n",
    "\n",
    "from sklearn.model_selection import train_test_split #probar sacando X_scaled\n",
    "# separating into train and testing\n",
    "X_train_val, X_test, y_train_val, y_test = train_test_split(X, y, test_size=0.30, random_state=10, stratify=y)\n",
    "# usaremos como validation\n",
    "X_train,X_val, y_train, y_val = train_test_split(X_train_val, y_train_val, test_size=0.1, random_state=11, stratify=y_train_val)\n",
    "\n",
    "print('information about the dataset')\n",
    "print('Total samples = {}'.format(X_train_val.shape[0] + X_test.shape[0]))\n",
    "print('PARTITIONED CANCER DATASET')\n",
    "print('======================')\n",
    "print(\"Shape of X_train is \" ,X_train.shape)\n",
    "print(\"Shape of y_train is \" ,y_train.shape)\n",
    "print('% samples train: 0 : {:2.2f}%    1 : {:2.2f}%'.format(np.sum(y_train==0)/y_train.size*100, np.sum(y_train==1)/y_train.size*100))\n",
    "print('======================')\n",
    "print('X_val: {}'.format(X_val.shape))\n",
    "print('y_val: {}'.format(y_val.shape))\n",
    "print('% samples per class: 0 : {:2.2f}%    1 : {:2.2f}%'.format(np.sum(y_val==0)/y_val.size*100, np.sum(y_val==1)/y_val.size*100))\n",
    "print('======================')\n",
    "print(\"Shape of X_test  is \" ,X_test.shape)\n",
    "print(\"Shape of y_test  is \" ,y_test.shape)\n",
    "print('% samples test: 0 : {:2.2f}%    1 : {:2.2f}%'.format(np.sum(y_test==0)/y_test.size*100, np.sum(y_test==1)/y_test.size*100))\n",
    "#scaler = StandardScaler()\n",
    "#X = scaler.fit_transform(X)\n",
    "#X_train, X_test, y_train, y_test = train_test_split(X,y, test_size=0.2, random_state=42)"
   ]
  },
  {
   "cell_type": "markdown",
   "id": "7471101e",
   "metadata": {},
   "source": [
    "## Aplicación de modelo de regresión Logística y evaluación con Matriz de confusión."
   ]
  },
  {
   "cell_type": "code",
   "execution_count": 28,
   "id": "65311db3-3343-4b24-85ec-476832de23d7",
   "metadata": {},
   "outputs": [],
   "source": [
    "from sklearn.linear_model import LogisticRegression\n",
    "from sklearn.metrics import accuracy_score, confusion_matrix, classification_report\n",
    "from sklearn import metrics"
   ]
  },
  {
   "cell_type": "code",
   "execution_count": 29,
   "id": "030b52d2-e799-44c1-9ad0-3f98c8d1dc2e",
   "metadata": {},
   "outputs": [
    {
     "name": "stdout",
     "output_type": "stream",
     "text": [
      "\n",
      "Classification Report : \n",
      "\n",
      "              precision    recall  f1-score   support\n",
      "\n",
      "           0       0.94      0.95      0.95       370\n",
      "           1       0.69      0.65      0.67        62\n",
      "\n",
      "    accuracy                           0.91       432\n",
      "   macro avg       0.82      0.80      0.81       432\n",
      "weighted avg       0.91      0.91      0.91       432\n",
      "\n",
      "\n",
      "The Accuracy of Logistic Regression is 90.74 %\n"
     ]
    },
    {
     "name": "stderr",
     "output_type": "stream",
     "text": [
      "C:\\Users\\David\\anaconda3\\lib\\site-packages\\sklearn\\linear_model\\_logistic.py:814: ConvergenceWarning: lbfgs failed to converge (status=1):\n",
      "STOP: TOTAL NO. of ITERATIONS REACHED LIMIT.\n",
      "\n",
      "Increase the number of iterations (max_iter) or scale the data as shown in:\n",
      "    https://scikit-learn.org/stable/modules/preprocessing.html\n",
      "Please also refer to the documentation for alternative solver options:\n",
      "    https://scikit-learn.org/stable/modules/linear_model.html#logistic-regression\n",
      "  n_iter_i = _check_optimize_result(\n",
      "C:\\Users\\David\\anaconda3\\lib\\site-packages\\sklearn\\utils\\deprecation.py:87: FutureWarning: Function plot_confusion_matrix is deprecated; Function `plot_confusion_matrix` is deprecated in 1.0 and will be removed in 1.2. Use one of the class methods: ConfusionMatrixDisplay.from_predictions or ConfusionMatrixDisplay.from_estimator.\n",
      "  warnings.warn(msg, category=FutureWarning)\n"
     ]
    },
    {
     "data": {
      "text/plain": [
       "<sklearn.metrics._plot.confusion_matrix.ConfusionMatrixDisplay at 0x204c6b7f610>"
      ]
     },
     "execution_count": 29,
     "metadata": {},
     "output_type": "execute_result"
    },
    {
     "data": {
      "text/plain": [
       "<Figure size 720x432 with 0 Axes>"
      ]
     },
     "metadata": {},
     "output_type": "display_data"
    },
    {
     "data": {
      "image/png": "[encoded data removed]",
      "text/plain": [
       "<Figure size 432x288 with 2 Axes>"
      ]
     },
     "metadata": {
      "needs_background": "light"
     },
     "output_type": "display_data"
    }
   ],
   "source": [
    "lr = LogisticRegression()\n",
    "lr.fit(X_train, y_train)\n",
    "lr_pred = lr.predict(X_test)\n",
    "lr_conf = confusion_matrix(y_test, lr_pred)\n",
    "lr_report = classification_report(y_test, lr_pred)\n",
    "lr_acc = round(accuracy_score(y_test, lr_pred)*100, ndigits = 2)\n",
    "print(f\"\\nClassification Report : \\n\\n{lr_report}\")\n",
    "print(f\"\\nThe Accuracy of Logistic Regression is {lr_acc} %\")\n",
    "plt.figure(figsize=(10,6))\n",
    "metrics.plot_confusion_matrix(lr, X_test, y_test, display_labels=['POSITIVO', 'NEGATIVO'])"
   ]
  },
  {
   "cell_type": "markdown",
   "id": "5617c7f9",
   "metadata": {},
   "source": [
    "## Aplicación de modelo de Random Forest y evaluación con Matriz de confusión."
   ]
  },
  {
   "cell_type": "code",
   "execution_count": 30,
   "id": "109ab02e-b826-4433-a8e0-29394daf2e04",
   "metadata": {},
   "outputs": [
    {
     "name": "stdout",
     "output_type": "stream",
     "text": [
      "Confusion Matrix : \n",
      "\n",
      "[[361   9]\n",
      " [ 14  48]]\n",
      "\n",
      "Classification Report : \n",
      "\n",
      "              precision    recall  f1-score   support\n",
      "\n",
      "           0       0.96      0.98      0.97       370\n",
      "           1       0.84      0.77      0.81        62\n",
      "\n",
      "    accuracy                           0.95       432\n",
      "   macro avg       0.90      0.87      0.89       432\n",
      "weighted avg       0.95      0.95      0.95       432\n",
      "\n",
      "\n",
      "The Accuracy of Random Forest Classifier is 94.68 %\n"
     ]
    },
    {
     "name": "stderr",
     "output_type": "stream",
     "text": [
      "C:\\Users\\David\\anaconda3\\lib\\site-packages\\sklearn\\utils\\deprecation.py:87: FutureWarning: Function plot_confusion_matrix is deprecated; Function `plot_confusion_matrix` is deprecated in 1.0 and will be removed in 1.2. Use one of the class methods: ConfusionMatrixDisplay.from_predictions or ConfusionMatrixDisplay.from_estimator.\n",
      "  warnings.warn(msg, category=FutureWarning)\n"
     ]
    },
    {
     "data": {
      "text/plain": [
       "<sklearn.metrics._plot.confusion_matrix.ConfusionMatrixDisplay at 0x204c8adc490>"
      ]
     },
     "execution_count": 30,
     "metadata": {},
     "output_type": "execute_result"
    },
    {
     "data": {
      "text/plain": [
       "<Figure size 720x432 with 0 Axes>"
      ]
     },
     "metadata": {},
     "output_type": "display_data"
    },
    {
     "data": {
      "image/png": "[encoded data removed]",
      "text/plain": [
       "<Figure size 432x288 with 2 Axes>"
      ]
     },
     "metadata": {
      "needs_background": "light"
     },
     "output_type": "display_data"
    }
   ],
   "source": [
    "from sklearn.ensemble import RandomForestClassifier\n",
    "\n",
    "rfg = RandomForestClassifier(max_depth=6, n_estimators = 100, random_state = 42) \n",
    "rfg.fit(X_train, y_train)\n",
    "rfg_pred = rfg.predict(X_test)\n",
    "rfg_conf = confusion_matrix(y_test, rfg_pred)\n",
    "rfg_report = classification_report(y_test, rfg_pred)\n",
    "rfg_acc = round(accuracy_score(y_test, rfg_pred)*100, ndigits = 2)\n",
    "print(f\"Confusion Matrix : \\n\\n{rfg_conf}\")\n",
    "print(f\"\\nClassification Report : \\n\\n{rfg_report}\")\n",
    "print(f\"\\nThe Accuracy of Random Forest Classifier is {rfg_acc} %\")\n",
    "plt.figure(figsize=(10,6))\n",
    "metrics.plot_confusion_matrix(rfg, X_test, y_test, display_labels=['POSITIVO', 'NEGATIVO'])"
   ]
  },
  {
   "cell_type": "code",
   "execution_count": 31,
   "id": "68bea538",
   "metadata": {},
   "outputs": [
    {
     "name": "stdout",
     "output_type": "stream",
     "text": [
      "2.083333333333333 %\n"
     ]
    }
   ],
   "source": [
    "def error_tipo_dos (a,b,c,d):     # Representación de error tipo 2 en la matriz (a = FN, b= TP, c= TN, d;FP)\n",
    "    error= (a/(a+b+c+d)*100)\n",
    "    return error\n",
    "\n",
    "#error_tipo_dos(16,354, 20, 42)\n",
    "print(error_tipo_dos(9,361, 48, 14),'%')"
   ]
  },
  {
   "cell_type": "markdown",
   "id": "eccc187b",
   "metadata": {},
   "source": [
    "## Conclusiones:\n",
    "### Podemos observar un modelo de regresión logística que nos devuelve valores altos de Accuracy, Precisión y Recall. Por un lado nos otorga una buena predicción lo que lo hace seguro ante nuevas instancias y por otro lado tiene un error de tipo II bajo. Este último dato lo consideramos relevante ya que minimizaría descartar un posible Cáncer positivo en aquellos pacientes que si son cáncer positivo.\n",
    "### Esto nos permite descartar la H0 y tomar como válida la H1, es decir, que existen factores predisponentes en la enfermedad y son la variables consideradas y evaluadas luego de definirlas en el Forward Selection.\n",
    "\n"
   ]
  },
  {
   "cell_type": "code",
   "execution_count": null,
   "id": "9b2d2e80",
   "metadata": {},
   "outputs": [],
   "source": []
  }
 ],
 "metadata": {
  "kernelspec": {
   "display_name": "Python 3 (ipykernel)",
   "language": "python",
   "name": "python3"
  },
  "language_info": {
   "codemirror_mode": {
    "name": "ipython",
    "version": 3
   },
   "file_extension": ".py",
   "mimetype": "text/x-python",
   "name": "python",
   "nbconvert_exporter": "python",
   "pygments_lexer": "ipython3",
   "version": "3.9.12"
  }
 },
 "nbformat": 4,
 "nbformat_minor": 5
}
